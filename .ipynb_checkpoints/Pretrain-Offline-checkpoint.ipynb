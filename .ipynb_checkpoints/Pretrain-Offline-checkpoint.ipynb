{
 "cells": [
  {
   "cell_type": "code",
   "execution_count": 1,
   "metadata": {},
   "outputs": [
    {
     "name": "stdout",
     "output_type": "stream",
     "text": [
      "=========================tracking option=========================\n",
      "model_path: ./models/rt-mdnet.pth\n",
      "===============================================================\n",
      "use_gpu: True\n",
      "img_size: 107\n",
      "padding: 1.2\n",
      "jitter: True\n",
      "adaptive_align: True\n",
      "batch_pos: 32\n",
      "batch_neg: 96\n",
      "batch_neg_cand: 1024\n",
      "batch_test: 256\n",
      "n_samples: 256\n",
      "trans_f: 0.6\n",
      "scale_f: 1.05\n",
      "trans_f_expand: 1.4\n",
      "n_bbreg: 1000\n",
      "overlap_bbreg: [0.6, 1]\n",
      "scale_bbreg: [1, 2]\n",
      "lr_init: 0.0001\n",
      "maxiter_init: 50\n",
      "n_pos_init: 500\n",
      "n_neg_init: 5000\n",
      "overlap_pos_init: [0.7, 1]\n",
      "overlap_neg_init: [0, 0.5]\n",
      "lr_update: 0.0003\n",
      "maxiter_update: 15\n",
      "n_pos_update: 50\n",
      "n_neg_update: 200\n",
      "overlap_pos_update: [0.7, 1]\n",
      "overlap_neg_update: [0, 0.3]\n",
      "success_thr: 0.0\n",
      "n_frames_short: 20\n",
      "n_frames_long: 100\n",
      "long_interval: 10\n",
      "w_decay: 0.0005\n",
      "momentum: 0.9\n",
      "grad_clip: 10\n",
      "lr_mult: {'fc6': 10}\n",
      "ft_layers: ['fc']\n",
      "set_type: OTB\n",
      "visual_log: True\n",
      "visualize: False\n"
     ]
    }
   ],
   "source": [
    "from train_mrcnn import *"
   ]
  },
  {
   "cell_type": "code",
   "execution_count": 2,
   "metadata": {},
   "outputs": [
    {
     "name": "stdout",
     "output_type": "stream",
     "text": [
      "========================== training path ==========================\n",
      "./models/re_mdnet_sen_1224.pth\n",
      "./models/imagenet-vgg-m.mat\n",
      "===================================================================\n",
      "use_gpu: True\n",
      "batch_frames: 8\n",
      "batch_pos: 64\n",
      "batch_neg: 196\n",
      "overlap_pos: [0.7, 1]\n",
      "overlap_neg: [0, 0.5]\n",
      "img_size: 107\n",
      "lr: 0.0001\n",
      "w_decay: 0.0005\n",
      "momentum: 0.9\n",
      "grad_clip: 10\n",
      "ft_layers: ['conv', 'fc']\n",
      "lr_mult: {'fc': 1}\n",
      "n_cycles: 200\n",
      "padding: 1.2\n",
      "padding_ratio: 5.0\n",
      "padded_img_size: 535\n",
      "frame_interval: 1\n",
      "set_type: IMAGENET\n",
      "adaptive_align: True\n",
      "seqbatch_size: 10\n",
      "n_brances_for_loss: 20\n"
     ]
    }
   ],
   "source": [
    "### set models_name ###\n",
    "pretrain_opts['model_path']= './models/re_mdnet_sen_1224.pth'\n",
    "pretrain_opts['init_model_path'] = \"./models/imagenet-vgg-m.mat\"\n",
    "print(\"========================== training path ==========================\")\n",
    "print(pretrain_opts['model_path'])\n",
    "print(pretrain_opts['init_model_path'])\n",
    "print('===================================================================')\n",
    "\n",
    "#######################\n",
    "pretrain_opts['set_type'] = 'IMAGENET' # VOT\n",
    "pretrain_opts['padding_ratio'] = float(5.)\n",
    "pretrain_opts['padded_img_size']=pretrain_opts['img_size']*int(pretrain_opts['padding_ratio'])\n",
    "pretrain_opts['frame_interval'] = 1\n",
    "pretrain_opts['batch_frames'] = 8\n",
    "pretrain_opts['lr'] = 1e-4\n",
    "pretrain_opts['batch_pos'] = 64\n",
    "pretrain_opts['batch_neg'] = 196\n",
    "pretrain_opts['n_cycles'] = 200 #1000\n",
    "pretrain_opts['adaptive_align'] = True\n",
    "### 累计iteration个数\n",
    "pretrain_opts['seqbatch_size'] = 10 # 50\n",
    "### inter-instance loss分支个数\n",
    "pretrain_opts['n_brances_for_loss'] = 20 # 100\n",
    "### balance parameter\n",
    "pretrain_opts['balance'] = 0.15 # 0.1\n",
    "\n",
    "for i in pretrain_opts:\n",
    "    if i.endswith('path'):\n",
    "        continue\n",
    "    print(\"%s: %s\"%(i, pretrain_opts[i]))"
   ]
  },
  {
   "cell_type": "code",
   "execution_count": null,
   "metadata": {},
   "outputs": [
    {
     "name": "stdout",
     "output_type": "stream",
     "text": [
      "==== Start Cycle 0 ====\n"
     ]
    },
    {
     "name": "stderr",
     "output_type": "stream",
     "text": [
      "./modules/model.py:166: UserWarning: Implicit dimension choice for log_softmax has been deprecated. Change the call to include dim=X as an argument.\n",
      "  pos_loss = -F.log_softmax(pos_score)[:,1]\n",
      "./modules/model.py:167: UserWarning: Implicit dimension choice for log_softmax has been deprecated. Change the call to include dim=X as an argument.\n",
      "  neg_loss = -F.log_softmax(neg_score)[:,0]\n"
     ]
    },
    {
     "name": "stdout",
     "output_type": "stream",
     "text": [
      "20\n",
      "Cycle  0, K  0 (516), BinLoss 1.128, Prec 0.221, interLoss 4.288, Time 0.812\n",
      "20\n",
      "Cycle  0, K  1 (151), BinLoss 1.586, Prec 0.311, interLoss 4.027, Time 0.249\n",
      "20\n",
      "Cycle  0, K  2 (397), BinLoss 1.076, Prec 0.340, interLoss 3.505, Time 0.329\n",
      "20\n",
      "Cycle  0, K  3 (330), BinLoss 1.365, Prec 0.207, interLoss 4.259, Time 0.354\n",
      "20\n",
      "Cycle  0, K  4 (37), BinLoss 1.242, Prec 0.387, interLoss 2.078, Time 0.225\n",
      "20\n",
      "Cycle  0, K  5 (595), BinLoss 0.912, Prec 0.244, interLoss 6.136, Time 0.332\n",
      "20\n",
      "Cycle  0, K  6 (465), BinLoss 1.376, Prec 0.199, interLoss 4.715, Time 0.255\n",
      "20\n",
      "Cycle  0, K  7 (452), BinLoss 1.083, Prec 0.230, interLoss 5.214, Time 0.311\n",
      "20\n",
      "Cycle  0, K  8 (416), BinLoss 0.738, Prec 0.311, interLoss 4.155, Time 0.328\n",
      "20\n",
      "Cycle  0, K  9 (96), BinLoss 0.939, Prec 0.305, interLoss 4.512, Time 0.262\n",
      "20\n",
      "Cycle  0, K 10 (338), BinLoss 1.005, Prec 0.164, interLoss 4.079, Time 0.212\n",
      "20\n",
      "Cycle  0, K 11 (194), BinLoss 1.068, Prec 0.260, interLoss 4.273, Time 0.341\n",
      "20\n",
      "Cycle  0, K 12 (149), BinLoss 0.807, Prec 0.262, interLoss 4.721, Time 0.326\n",
      "20\n",
      "Cycle  0, K 13 (188), BinLoss 1.093, Prec 0.293, interLoss 4.238, Time 0.254\n",
      "20\n",
      "Cycle  0, K 14 (282), BinLoss 1.016, Prec 0.246, interLoss 5.072, Time 0.276\n",
      "20\n",
      "Cycle  0, K 15 (376), BinLoss 1.204, Prec 0.234, interLoss 4.353, Time 0.260\n",
      "20\n",
      "Cycle  0, K 16 (162), BinLoss 0.751, Prec 0.232, interLoss 4.818, Time 0.343\n"
     ]
    }
   ],
   "source": [
    "train_mdnet()"
   ]
  },
  {
   "cell_type": "code",
   "execution_count": null,
   "metadata": {},
   "outputs": [],
   "source": []
  }
 ],
 "metadata": {
  "kernelspec": {
   "display_name": "Python 2",
   "language": "python",
   "name": "python2"
  },
  "language_info": {
   "codemirror_mode": {
    "name": "ipython",
    "version": 2
   },
   "file_extension": ".py",
   "mimetype": "text/x-python",
   "name": "python",
   "nbconvert_exporter": "python",
   "pygments_lexer": "ipython2",
   "version": "2.7.14"
  }
 },
 "nbformat": 4,
 "nbformat_minor": 2
}
